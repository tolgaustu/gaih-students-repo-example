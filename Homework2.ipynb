{
  "nbformat": 4,
  "nbformat_minor": 0,
  "metadata": {
    "colab": {
      "name": "Homework2.ipynb",
      "provenance": [],
      "collapsed_sections": [],
      "authorship_tag": "ABX9TyNXUBxP3k4XgXjpVVftqha6",
      "include_colab_link": true
    },
    "kernelspec": {
      "name": "python3",
      "display_name": "Python 3"
    }
  },
  "cells": [
    {
      "cell_type": "markdown",
      "metadata": {
        "id": "view-in-github",
        "colab_type": "text"
      },
      "source": [
        "<a href=\"https://colab.research.google.com/github/tolgaustu/gaih-students-repo-example/blob/main/Homework2.ipynb\" target=\"_parent\"><img src=\"https://colab.research.google.com/assets/colab-badge.svg\" alt=\"Open In Colab\"/></a>"
      ]
    },
    {
      "cell_type": "code",
      "metadata": {
        "colab": {
          "base_uri": "https://localhost:8080/"
        },
        "id": "s0lM84mUZ8Gi",
        "outputId": "894e2474-8b01-401b-c5d9-1a49c34bfd41"
      },
      "source": [
        "cv1 = {'isim':'Tolga','soyisim':'Uştu','tel':'55','diploma':'link'}\r\n",
        "cv2 = {'isim':'Ahmet','soyisim':'Arsu','tel':'55','diploma':'link'}\r\n",
        "cv3 = {'isim':'Mehmet','soyisim':'Denizcan','tel':'55','diploma':'link'}\r\n",
        "cv4 = {'isim':'Yılmaz','soyisim':'Güllü','tel':'55','diploma':'link'}\r\n",
        "cv5 = {'isim':'Burak','soyisim':'Koç','tel':'55','diploma':'link'}\r\n",
        "\r\n",
        "print(cv1,\"\\n\",cv2,\"\\n\",cv3,\"\\n\",cv4,\"\\n\",cv5)"
      ],
      "execution_count": 30,
      "outputs": [
        {
          "output_type": "stream",
          "text": [
            "{'isim': 'Tolga', 'soyisim': 'Uştu', 'tel': '55', 'diploma': 'link'} \n",
            " {'isim': 'Ahmet', 'soyisim': 'Arsu', 'tel': '55', 'diploma': 'link'} \n",
            " {'isim': 'Mehmet', 'soyisim': 'Denizcan', 'tel': '55', 'diploma': 'link'} \n",
            " {'isim': 'Yılmaz', 'soyisim': 'Güllü', 'tel': '55', 'diploma': 'link'} \n",
            " {'isim': 'Burak', 'soyisim': 'Koç', 'tel': '55', 'diploma': 'link'}\n"
          ],
          "name": "stdout"
        }
      ]
    }
  ]
}