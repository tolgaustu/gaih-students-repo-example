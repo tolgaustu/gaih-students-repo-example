{
  "nbformat": 4,
  "nbformat_minor": 0,
  "metadata": {
    "colab": {
      "name": "Homework3.ipynb",
      "provenance": [],
      "collapsed_sections": [],
      "authorship_tag": "ABX9TyPOvMta1RNwxlhVGCRNs/oe",
      "include_colab_link": true
    },
    "kernelspec": {
      "name": "python3",
      "display_name": "Python 3"
    }
  },
  "cells": [
    {
      "cell_type": "markdown",
      "metadata": {
        "id": "view-in-github",
        "colab_type": "text"
      },
      "source": [
        "<a href=\"https://colab.research.google.com/github/tolgaustu/gaih-students-repo-example/blob/main/Homework3.ipynb\" target=\"_parent\"><img src=\"https://colab.research.google.com/assets/colab-badge.svg\" alt=\"Open In Colab\"/></a>"
      ]
    },
    {
      "cell_type": "code",
      "metadata": {
        "colab": {
          "base_uri": "https://localhost:8080/"
        },
        "id": "QWkhIMu5wXqv",
        "outputId": "25d3f12c-b56e-4115-fdc7-a15371cddd16"
      },
      "source": [
        "students = dict()\r\n",
        "passingGrade = dict()\r\n",
        "studentList = []\r\n",
        "for i in range(1,4):\r\n",
        "  midterm = input(\"{}. öğrencinin vize notunu girin:\".format(i))\r\n",
        "  project = input(\"{}. öğrencinin proje notunu girin:\".format(i))\r\n",
        "  final = input(\"{}. öğrencinin final notunu girin:\".format(i))\r\n",
        "  students[\"{}. öğrenci\".format(i)] = [midterm, project, final]\r\n",
        "  passingGrade[\"{}. öğrenci\".format(i)] = [int(midterm)*0.3 + int(project)*0.3 + int(final)*0.4]\r\n",
        "\r\n",
        "print(\"Öğrenci notları: \", students)\r\n",
        "print(\"Geçme notları: \", passingGrade)\r\n",
        "\r\n",
        "for key, value in passingGrade.items():\r\n",
        "    temp = [key, value]\r\n",
        "    studentList.append(temp)\r\n",
        "\r\n",
        "studentList.sort(key = lambda studentList: studentList[1], reverse=True) \r\n",
        "print(\"Not sıralaması: \", studentList)\r\n",
        "\r\n"
      ],
      "execution_count": 50,
      "outputs": [
        {
          "output_type": "stream",
          "text": [
            "1. öğrencinin vize notunu girin:10\n",
            "1. öğrencinin proje notunu girin:10\n",
            "1. öğrencinin final notunu girin:10\n",
            "2. öğrencinin vize notunu girin:100\n",
            "2. öğrencinin proje notunu girin:100\n",
            "2. öğrencinin final notunu girin:100\n",
            "3. öğrencinin vize notunu girin:50\n",
            "3. öğrencinin proje notunu girin:50\n",
            "3. öğrencinin final notunu girin:50\n",
            "Öğrenci notları:  {'1. öğrenci': ['10', '10', '10'], '2. öğrenci': ['100', '100', '100'], '3. öğrenci': ['50', '50', '50']}\n",
            "Geçme notları:  {'1. öğrenci': [10.0], '2. öğrenci': [100.0], '3. öğrenci': [50.0]}\n",
            "Not sıralaması:  [['2. öğrenci', [100.0]], ['3. öğrenci', [50.0]], ['1. öğrenci', [10.0]]]\n"
          ],
          "name": "stdout"
        }
      ]
    }
  ]
}