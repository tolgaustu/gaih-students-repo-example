{
  "nbformat": 4,
  "nbformat_minor": 0,
  "metadata": {
    "colab": {
      "name": "Homework1.ipynb",
      "provenance": [],
      "collapsed_sections": [],
      "authorship_tag": "ABX9TyMHepQYp74pb4q7JhQEphaN",
      "include_colab_link": true
    },
    "kernelspec": {
      "name": "python3",
      "display_name": "Python 3"
    }
  },
  "cells": [
    {
      "cell_type": "markdown",
      "metadata": {
        "id": "view-in-github",
        "colab_type": "text"
      },
      "source": [
        "<a href=\"https://colab.research.google.com/github/tolgaustu/gaih-students-repo-example/blob/main/Homework1.ipynb\" target=\"_parent\"><img src=\"https://colab.research.google.com/assets/colab-badge.svg\" alt=\"Open In Colab\"/></a>"
      ]
    },
    {
      "cell_type": "code",
      "metadata": {
        "colab": {
          "base_uri": "https://localhost:8080/"
        },
        "id": "aw1yo5OTfK3t",
        "outputId": "4333feff-9146-4fcf-b29c-97957127c282"
      },
      "source": [
        "list1 = []\r\n",
        "list2 = []\r\n",
        "\r\n",
        "for i in range(10):\r\n",
        "    if i % 2:\r\n",
        "        list1.append(i)\r\n",
        "    else:\r\n",
        "        list2.append(i)\r\n",
        "\r\n",
        "print(list1)\r\n",
        "print(list2)\r\n",
        "mergedList = list1 + list2\r\n",
        "mergedList.sort()\r\n",
        "for i in mergedList:\r\n",
        "    mergedList[i] = i * 2\r\n",
        "    print(\"{}. index: {}\".format(i, type(mergedList[i])))"
      ],
      "execution_count": 1,
      "outputs": [
        {
          "output_type": "stream",
          "text": [
            "[1, 3, 5, 7, 9]\n",
            "[0, 2, 4, 6, 8]\n",
            "0. index: <class 'int'>\n",
            "1. index: <class 'int'>\n",
            "2. index: <class 'int'>\n",
            "3. index: <class 'int'>\n",
            "4. index: <class 'int'>\n",
            "5. index: <class 'int'>\n",
            "6. index: <class 'int'>\n",
            "7. index: <class 'int'>\n",
            "8. index: <class 'int'>\n",
            "9. index: <class 'int'>\n"
          ],
          "name": "stdout"
        }
      ]
    }
  ]
}